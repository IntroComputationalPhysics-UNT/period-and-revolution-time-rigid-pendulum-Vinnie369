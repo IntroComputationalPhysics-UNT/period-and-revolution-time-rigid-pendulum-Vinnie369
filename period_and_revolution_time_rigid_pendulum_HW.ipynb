{
  "cells": [
    {
      "cell_type": "markdown",
      "metadata": {
        "id": "view-in-github",
        "colab_type": "text"
      },
      "source": [
        "<a href=\"https://colab.research.google.com/github/IntroComputationalPhysics-UNT/period-and-revolution-time-rigid-pendulum-Vinnie369/blob/main/period_and_revolution_time_rigid_pendulum_HW.ipynb\" target=\"_parent\"><img src=\"https://colab.research.google.com/assets/colab-badge.svg\" alt=\"Open In Colab\"/></a>"
      ]
    },
    {
      "cell_type": "markdown",
      "source": [
        "## Extracting the period of the rigid pendulum\n",
        "\n",
        "### Pseudocode\n",
        "1. **Import needed modules:** `numpy` for special functions and linear algebra; `matplotlib.pyplot` for plotting; `scipy.integrate` for `solve_ivp` for finding the pendulum trajectory, and `quad` for integration.\n",
        "2. **Define ODE function and the integrand:** [add details]\n",
        "3. **Create utilities:** some basic plotting functions...\n",
        "4. **Extract the period using the integral:** ...\n",
        "5. **Extract the period using the differential equation:**...\n",
        "6. **Plot both results and compare:**..."
      ],
      "metadata": {
        "id": "KYMzmFkbWs5g"
      }
    },
    {
      "cell_type": "code",
      "execution_count": 3,
      "metadata": {
        "id": "lIYdn1woOS1n"
      },
      "outputs": [],
      "source": [
        "# import modules\n",
        "import numpy as np\n",
        "import matplotlib.pyplot as plt\n",
        "from scipy.integrate import solve_ivp, quad"
      ]
    },
    {
      "cell_type": "markdown",
      "source": [
        "### Define ODE function and the integrand\n",
        "\n",
        "1. `rigid_pendulum_ode(t, y, omega_0=1)` gives the differential equation for the rigid pendulum in the form needed for `solve_ivp`.\n",
        "2. `period_integrand(theta, theta_0, omega_0=1)` gives the integrand in a form that can used with `quad`."
      ],
      "metadata": {
        "id": "lViEf9T5R9ar"
      }
    },
    {
      "cell_type": "code",
      "source": [
        "# define the rigid pendulum ODE and the integrand for integration with quad\n",
        "\n",
        "# rigid pendulum ode\n",
        "def rigid_pendulum_ode(t, y, omega_0=1.0):\n",
        "    \"\"\"y = [theta, ang_vel]; theta'' + omega_0^2 sin(theta) = 0\"\"\"\n",
        "    theta, ang_vel = y\n",
        "    return [ang_vel, -(omega_0**2) * np.sin(theta)]\n",
        "\n",
        "# energy per unit inertia e = 1/2 v^2 + ω0^2 (1 - cos θ)\n",
        "def energy_per_I(theta, ang_vel, omega_0=1.0):\n",
        "    return 0.5 * ang_vel**2 + (omega_0**2) * (1 - np.cos(theta))\n",
        "\n",
        "# convenience: separatrix energy (θ at the top, π)\n",
        "def separatrix_energy(omega_0=1.0):\n",
        "    return 2.0 * (omega_0**2)  # e_sep\n"
      ],
      "metadata": {
        "id": "dgcId07PYq88"
      },
      "execution_count": 4,
      "outputs": []
    },
    {
      "cell_type": "markdown",
      "source": [
        "### Create utilities\n",
        "\n",
        "1. `basic_plot(x, y, xlabel=None, ylabel=None, figsize=(3,3))` creates a simple plot for fast evaluation of data, visually.\n",
        "2. `ang_vel_zero_event(t, y, omega_0=1)` creates an event for `solve_ivp` (`ang_vel=0`).\n",
        "3. `extract_period_int(n_points, eps=1e-3, omega_0=1)` extracts the period on a mesh of `theta_0` using the integral method.\n",
        "4. `extract_period_ode(n_points, eps=1e-3, omega_0=1)` extracts the perido with `solve_ivp` events."
      ],
      "metadata": {
        "id": "Jt2RB7GSSlzD"
      }
    },
    {
      "cell_type": "code",
      "source": [
        "# create utilities\n",
        "\n",
        "# basic plotting\n",
        "def basic_plot(x, y, xlabel=None, ylabel=None, figsize=(3,3)):\n",
        "  \"\"\"\n",
        "  \"\"\"\n",
        "  plt.figure(figsize=figsize)\n",
        "  plt.plot(x, y)\n",
        "  plt.xlabel(xlabel)\n",
        "  plt.ylabel(ylabel)\n",
        "  return plt.show()\n",
        "\n",
        "# define the event function: ang_vel = 0\n",
        "def ang_vel_zero_event(t, y, omega_0=1):\n",
        "  \"\"\"\n",
        "  \"\"\"\n",
        "  theta, ang_vel = y # unpack state variable\n",
        "  return ang_vel # set to find values where ang_vel = 0\n",
        "\n",
        "# add required attributes to the event function\n",
        "ang_vel_zero_event.terminal = False # keep integrating after event(s) are found\n",
        "ang_vel_zero_event.direction = -1 # track zeros when going from positive to negative\n",
        "\n",
        "\n",
        "# extract period on mesh of theta_0 values\n",
        "def extract_period_int(n_points, eps=1e-3, omega_0=1):\n",
        "  \"\"\"\n",
        "  You should fill this out with the details...\n",
        "  \"\"\"\n",
        "\n",
        "  # extract period with integral on a list of initial angles\n",
        "  theta_0_list = np.linspace(eps, np.pi - eps, n_points) # list of initial angles\n",
        "\n",
        "  period_list_int = [] # initialize list of periods\n",
        "\n",
        "  for theta_0 in theta_0_list:\n",
        "    period, err = quad(period_integrand, 0, theta_0, args=(theta_0, omega_0))\n",
        "    period_list_int.append(period)\n",
        "\n",
        "  period_list_int = np.array(period_list_int) # convert to a numpy array\n",
        "\n",
        "  period_list_int = np.concatenate([period_list_int[::-1], period_list_int]) # enforcing symmetry to extend data\n",
        "  theta_0_list = np.concatenate([-theta_0_list[::-1], theta_0_list]) # enforcing symmetry to extend data\n",
        "  return theta_0_list, period_list_int\n",
        "\n",
        "\n",
        "# extract period with solve_ivp evetns\n",
        "def extract_period_ode(n_points, eps=1e-3, omega_0=1):\n",
        "  \"\"\"\n",
        "  Extract period with solve_ivp events on a list of initial angles\n",
        "  You should fill this out with the details...\n",
        "  \"\"\"\n",
        "  theta_0_list = np.linspace(eps, np.pi - eps, n_points) # list of initial angles\n",
        "\n",
        "  # range of times for integrating\n",
        "  t_min = 0\n",
        "  t_max = 100\n",
        "  t_span = [t_min, t_max] # time span for solve_ivp\n",
        "\n",
        "  period_list_ode = [] # initialize list of periods\n",
        "  for theta_0 in theta_0_list:\n",
        "    # define state variable for run\n",
        "    y_0 = [theta_0, 0] # initial condition\n",
        "\n",
        "    # solve differential equation\n",
        "    sol = solve_ivp(rigid_pendulum_ode, t_span, y_0, args=(omega_0,),\n",
        "                    max_step = 0.01,\n",
        "                    dense_output=False,\n",
        "                    events=ang_vel_zero_event\n",
        "                    )\n",
        "    # output the extracted period\n",
        "    period = np.mean(np.diff(sol.t_events)) # define period\n",
        "    period_list_ode.append(period) # append period\n",
        "\n",
        "  period_list_ode = np.array(period_list_ode) # convert to a numpy array\n",
        "\n",
        "  period_list_ode = np.concatenate([period_list_ode[::-1], period_list_ode]) # enforcing symmetry to extend data\n",
        "  theta_0_list = np.concatenate([-theta_0_list[::-1], theta_0_list]) # enforcing symmetry to extend data\n",
        "  return theta_0_list, period_list_ode\n",
        "\n",
        "# ...other utlities..."
      ],
      "metadata": {
        "id": "3cMgQVnRhuX3"
      },
      "execution_count": 5,
      "outputs": []
    },
    {
      "cell_type": "markdown",
      "source": [
        "### Testing the integration approach"
      ],
      "metadata": {
        "id": "97qgQKfLSya2"
      }
    },
    {
      "cell_type": "code",
      "source": [
        "# # test the integral\n",
        "# theta_0 = np.pi/2 # initial angle\n",
        "# omega_0 = 1 # natural frequency\n",
        "# period, err = quad(period_integrand, 0, theta_0, args=(theta_0, omega_0))\n",
        "\n",
        "# print(period / (2*np.pi))"
      ],
      "metadata": {
        "id": "eAK-Dg_rYsYF"
      },
      "execution_count": 6,
      "outputs": []
    },
    {
      "cell_type": "code",
      "source": [
        "# n_points = 50 # number of initial angles\n",
        "# theta_0_list, period_list_int = extract_period_int(n_points) # extract period on mesh of theta_0\n",
        "# basic_plot(theta_0_list, period_list_int, xlabel='theta_0', ylabel='period') # plot"
      ],
      "metadata": {
        "id": "vREj8Bing35q"
      },
      "execution_count": 7,
      "outputs": []
    },
    {
      "cell_type": "markdown",
      "source": [
        "### Test the `solve_ivp` approach"
      ],
      "metadata": {
        "id": "fNkdc_N-VE8S"
      }
    },
    {
      "cell_type": "code",
      "source": [
        "# # testing the solve_ivp + event approach\n",
        "\n",
        "# # range of times for integrating\n",
        "# t_min = 0\n",
        "# t_max = 100\n",
        "# t_span = [t_min, t_max] # time span for solve_ivp\n",
        "\n",
        "# # state variable\n",
        "# theta_0 = np.pi - 0.001 # initial angle\n",
        "# y_0 = [theta_0, 0] # initial condition\n",
        "\n",
        "# # parameters\n",
        "# omega_0 = 1 # natural frequency\n",
        "\n",
        "# # solve differential equation\n",
        "# sol = solve_ivp(rigid_pendulum_ode, t_span, y_0, args=(omega_0,),\n",
        "#                 max_step = 0.01,\n",
        "#                 dense_output=True,\n",
        "#                 events=ang_vel_zero_event\n",
        "#                 )\n",
        "\n",
        "# # output the extracted period\n",
        "# period = np.mean(np.diff(sol.t_events))\n",
        "# print(period)\n",
        "\n",
        "# # quick plot\n",
        "# t_plot = np.linspace(t_min, t_max, 1000)\n",
        "# theta_plot = sol.sol(t_plot)[0]\n",
        "# ang_vel_plot = sol.sol(t_plot)[1]\n",
        "# basic_plot(t_plot, theta_plot, xlabel='t', ylabel='theta', figsize=(12,2))\n",
        "# basic_plot(t_plot, ang_vel_plot, xlabel='t', ylabel='ang_vel', figsize=(12,2))"
      ],
      "metadata": {
        "id": "gfVl5Zk-hmFP"
      },
      "execution_count": 8,
      "outputs": []
    },
    {
      "cell_type": "code",
      "source": [
        "# n_points = 20 # number of theta_0 values\n",
        "# theta_0_list_ode, period_list_ode = extract_period_ode(n_points)"
      ],
      "metadata": {
        "id": "3NhfcwYOnPvV"
      },
      "execution_count": 9,
      "outputs": []
    },
    {
      "cell_type": "code",
      "source": [
        "# basic_plot(theta_0_list_ode, period_list_ode, xlabel='theta_0', ylabel='period',figsize=(3,3))"
      ],
      "metadata": {
        "id": "ELV583WCnXuw"
      },
      "execution_count": 10,
      "outputs": []
    },
    {
      "cell_type": "markdown",
      "source": [
        "### Compare the period extracted in the two different ways"
      ],
      "metadata": {
        "id": "LRhdKfjqol1j"
      }
    },
    {
      "cell_type": "code",
      "source": [
        "# extract period with the integral approach\n",
        "n_points_int = 100 # number of initial angles\n",
        "theta_0_list_int, period_list_int = extract_period_int(n_points_int) # extract period on mesh of theta_0\n",
        "\n",
        "# extract the period with the aolve_ivp approach\n",
        "n_points_ode = 20 # number of theta_0 values\n",
        "theta_0_list_ode, period_list_ode = extract_period_ode(n_points_ode) # extract period on mesh of theta_0"
      ],
      "metadata": {
        "id": "YA-oa-lDnvef",
        "colab": {
          "base_uri": "https://localhost:8080/",
          "height": 332
        },
        "outputId": "a44df8b9-e377-4d0f-91d5-0ca7f541983d"
      },
      "execution_count": 11,
      "outputs": [
        {
          "output_type": "error",
          "ename": "NameError",
          "evalue": "name 'period_integrand' is not defined",
          "traceback": [
            "\u001b[0;31m---------------------------------------------------------------------------\u001b[0m",
            "\u001b[0;31mNameError\u001b[0m                                 Traceback (most recent call last)",
            "\u001b[0;32m/tmp/ipython-input-2244576244.py\u001b[0m in \u001b[0;36m<cell line: 0>\u001b[0;34m()\u001b[0m\n\u001b[1;32m      1\u001b[0m \u001b[0;31m# extract period with the integral approach\u001b[0m\u001b[0;34m\u001b[0m\u001b[0;34m\u001b[0m\u001b[0m\n\u001b[1;32m      2\u001b[0m \u001b[0mn_points_int\u001b[0m \u001b[0;34m=\u001b[0m \u001b[0;36m100\u001b[0m \u001b[0;31m# number of initial angles\u001b[0m\u001b[0;34m\u001b[0m\u001b[0;34m\u001b[0m\u001b[0m\n\u001b[0;32m----> 3\u001b[0;31m \u001b[0mtheta_0_list_int\u001b[0m\u001b[0;34m,\u001b[0m \u001b[0mperiod_list_int\u001b[0m \u001b[0;34m=\u001b[0m \u001b[0mextract_period_int\u001b[0m\u001b[0;34m(\u001b[0m\u001b[0mn_points_int\u001b[0m\u001b[0;34m)\u001b[0m \u001b[0;31m# extract period on mesh of theta_0\u001b[0m\u001b[0;34m\u001b[0m\u001b[0;34m\u001b[0m\u001b[0m\n\u001b[0m\u001b[1;32m      4\u001b[0m \u001b[0;34m\u001b[0m\u001b[0m\n\u001b[1;32m      5\u001b[0m \u001b[0;31m# extract the period with the aolve_ivp approach\u001b[0m\u001b[0;34m\u001b[0m\u001b[0;34m\u001b[0m\u001b[0m\n",
            "\u001b[0;32m/tmp/ipython-input-3935492294.py\u001b[0m in \u001b[0;36mextract_period_int\u001b[0;34m(n_points, eps, omega_0)\u001b[0m\n\u001b[1;32m     35\u001b[0m \u001b[0;34m\u001b[0m\u001b[0m\n\u001b[1;32m     36\u001b[0m   \u001b[0;32mfor\u001b[0m \u001b[0mtheta_0\u001b[0m \u001b[0;32min\u001b[0m \u001b[0mtheta_0_list\u001b[0m\u001b[0;34m:\u001b[0m\u001b[0;34m\u001b[0m\u001b[0;34m\u001b[0m\u001b[0m\n\u001b[0;32m---> 37\u001b[0;31m     \u001b[0mperiod\u001b[0m\u001b[0;34m,\u001b[0m \u001b[0merr\u001b[0m \u001b[0;34m=\u001b[0m \u001b[0mquad\u001b[0m\u001b[0;34m(\u001b[0m\u001b[0mperiod_integrand\u001b[0m\u001b[0;34m,\u001b[0m \u001b[0;36m0\u001b[0m\u001b[0;34m,\u001b[0m \u001b[0mtheta_0\u001b[0m\u001b[0;34m,\u001b[0m \u001b[0margs\u001b[0m\u001b[0;34m=\u001b[0m\u001b[0;34m(\u001b[0m\u001b[0mtheta_0\u001b[0m\u001b[0;34m,\u001b[0m \u001b[0momega_0\u001b[0m\u001b[0;34m)\u001b[0m\u001b[0;34m)\u001b[0m\u001b[0;34m\u001b[0m\u001b[0;34m\u001b[0m\u001b[0m\n\u001b[0m\u001b[1;32m     38\u001b[0m     \u001b[0mperiod_list_int\u001b[0m\u001b[0;34m.\u001b[0m\u001b[0mappend\u001b[0m\u001b[0;34m(\u001b[0m\u001b[0mperiod\u001b[0m\u001b[0;34m)\u001b[0m\u001b[0;34m\u001b[0m\u001b[0;34m\u001b[0m\u001b[0m\n\u001b[1;32m     39\u001b[0m \u001b[0;34m\u001b[0m\u001b[0m\n",
            "\u001b[0;31mNameError\u001b[0m: name 'period_integrand' is not defined"
          ]
        }
      ]
    },
    {
      "cell_type": "code",
      "source": [
        "# plot them together\n",
        "plt.figure(figsize=(5,3))\n",
        "plt.plot(theta_0_list_int, period_list_int, label='integral')\n",
        "plt.plot(theta_0_list_ode, period_list_ode, '.', label='solve_ivp')\n",
        "plt.xlabel('$\\\\theta_0$')\n",
        "plt.ylabel('$T$')\n",
        "plt.xlim(-np.pi-0.2, np.pi+0.2)\n",
        "plt.ylim(0, 40)\n",
        "plt.legend()\n",
        "plt.show()"
      ],
      "metadata": {
        "id": "p9UU2424pB5w"
      },
      "execution_count": null,
      "outputs": []
    },
    {
      "cell_type": "code",
      "source": [],
      "metadata": {
        "id": "J6k_K-urpfgi"
      },
      "execution_count": null,
      "outputs": []
    }
  ],
  "metadata": {
    "colab": {
      "provenance": [],
      "collapsed_sections": [
        "97qgQKfLSya2",
        "fNkdc_N-VE8S"
      ],
      "include_colab_link": true
    },
    "kernelspec": {
      "display_name": "Python 3",
      "name": "python3"
    }
  },
  "nbformat": 4,
  "nbformat_minor": 0
}