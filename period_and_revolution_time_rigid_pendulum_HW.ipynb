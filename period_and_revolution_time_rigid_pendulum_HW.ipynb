{
  "cells": [
    {
      "cell_type": "markdown",
      "metadata": {
        "id": "view-in-github",
        "colab_type": "text"
      },
      "source": [
        "<a href=\"https://colab.research.google.com/github/IntroComputationalPhysics-UNT/period-and-revolution-time-rigid-pendulum-Vinnie369/blob/main/period_and_revolution_time_rigid_pendulum_HW.ipynb\" target=\"_parent\"><img src=\"https://colab.research.google.com/assets/colab-badge.svg\" alt=\"Open In Colab\"/></a>"
      ]
    },
    {
      "cell_type": "markdown",
      "source": [
        "## Extracting the period of the rigid pendulum\n",
        "\n",
        "### Pseudocode\n",
        "1. **Import needed modules:** `numpy` for special functions and linear algebra; `matplotlib.pyplot` for plotting; `scipy.integrate` for `solve_ivp` for finding the pendulum trajectory, and `quad` for integration.\n",
        "2. **Define ODE function and the integrand:** [add details]\n",
        "3. **Create utilities:** some basic plotting functions...\n",
        "4. **Extract the period using the integral:** ...\n",
        "5. **Extract the period using the differential equation:**...\n",
        "6. **Plot both results and compare:**..."
      ],
      "metadata": {
        "id": "KYMzmFkbWs5g"
      }
    },
    {
      "cell_type": "code",
      "execution_count": 1,
      "metadata": {
        "id": "lIYdn1woOS1n"
      },
      "outputs": [],
      "source": [
        "# import modules\n",
        "import numpy as np\n",
        "import matplotlib.pyplot as plt\n",
        "from scipy.integrate import solve_ivp, quad"
      ]
    },
    {
      "cell_type": "markdown",
      "source": [
        "### Define ODE function and the integrand\n",
        "\n",
        "1. `rigid_pendulum_ode(t, y, omega_0=1)` gives the differential equation for the rigid pendulum in the form needed for `solve_ivp`.\n",
        "2. `period_integrand(theta, theta_0, omega_0=1)` gives the integrand in a form that can used with `quad`."
      ],
      "metadata": {
        "id": "lViEf9T5R9ar"
      }
    },
    {
      "cell_type": "code",
      "source": [
        "# define the rigid pendulum ODE and the integrand for integration with quad\n",
        "\n",
        "# rigid pendulum ode\n",
        "def rigid_pendulum_ode(t, y, omega_0=1.0):\n",
        "    \"\"\"y = [theta, ang_vel]; theta'' + omega_0^2 sin(theta) = 0\"\"\"\n",
        "    theta, ang_vel = y\n",
        "    return [ang_vel, -(omega_0**2) * np.sin(theta)]\n",
        "\n",
        "# energy per unit inertia e = 1/2 v^2 + ω0^2 (1 - cos θ)\n",
        "def energy_per_I(theta, ang_vel, omega_0=1.0):\n",
        "    return 0.5 * ang_vel**2 + (omega_0**2) * (1 - np.cos(theta))\n",
        "\n",
        "# convenience: separatrix energy (θ at the top, π)\n",
        "def separatrix_energy(omega_0=1.0):\n",
        "    return 2.0 * (omega_0**2)  # e_sep\n"
      ],
      "metadata": {
        "id": "dgcId07PYq88"
      },
      "execution_count": 2,
      "outputs": []
    },
    {
      "cell_type": "markdown",
      "source": [
        "### Create utilities\n",
        "\n",
        "1. `basic_plot(x, y, xlabel=None, ylabel=None, figsize=(3,3))` creates a simple plot for fast evaluation of data, visually.\n",
        "2. `ang_vel_zero_event(t, y, omega_0=1)` creates an event for `solve_ivp` (`ang_vel=0`).\n",
        "3. `extract_period_int(n_points, eps=1e-3, omega_0=1)` extracts the period on a mesh of `theta_0` using the integral method.\n",
        "4. `extract_period_ode(n_points, eps=1e-3, omega_0=1)` extracts the perido with `solve_ivp` events."
      ],
      "metadata": {
        "id": "Jt2RB7GSSlzD"
      }
    },
    {
      "cell_type": "code",
      "source": [
        "# create utilities\n",
        "\n",
        "# basic plotting (kept from your version)\n",
        "def basic_plot(x, y, xlabel=None, ylabel=None, figsize=(3,3)):\n",
        "    plt.figure(figsize=figsize)\n",
        "    plt.plot(x, y)\n",
        "    plt.xlabel(xlabel)\n",
        "    plt.ylabel(ylabel)\n",
        "    return plt.show()\n",
        "\n",
        "# Events for solve_ivp\n",
        "def ang_vel_zero_event(t, y, omega_0=1.0):\n",
        "    \"\"\"\n",
        "    Turning points: v = 0 (we will filter to maxima using acceleration sign).\n",
        "    \"\"\"\n",
        "    return y[1]\n",
        "ang_vel_zero_event.terminal = False\n",
        "ang_vel_zero_event.direction = 0\n",
        "\n",
        "def revolution_event(theta0):\n",
        "    \"\"\"\n",
        "    Return an event function that triggers when θ(t) - θ0 = +2π.\n",
        "    \"\"\"\n",
        "    def ev(t, y, omega_0=1.0):\n",
        "        return y[0] - theta0 - 2*np.pi\n",
        "    ev.terminal = True\n",
        "    ev.direction = 1\n",
        "    return ev\n",
        "\n",
        "# Period via events (oscillation regime)\n",
        "def extract_period_ode_vs_angvel(ang_vel_0_list, theta0=0.0, omega_0=1.0):\n",
        "    \"\"\"\n",
        "    Return arrays (ang_vel_0_list, T_list) using two successive maxima detected by v=0 events.\n",
        "    \"\"\"\n",
        "    e_sep = separatrix_energy(omega_0)\n",
        "    T_list = []\n",
        "    for v0 in ang_vel_0_list:\n",
        "        e0 = 0.5 * v0**2\n",
        "        if e0 >= e_sep or abs(e0 - e_sep) < 1e-3:\n",
        "            T_list.append(np.nan)  # not oscillatory or too close to separatrix\n",
        "            continue\n",
        "\n",
        "        y0 = [theta0, v0]\n",
        "        sol = solve_ivp(lambda t,y: rigid_pendulum_ode(t,y,omega_0),\n",
        "                        [0, 120.0], y0,\n",
        "                        events=lambda t,y: ang_vel_zero_event(t,y,omega_0),\n",
        "                        max_step=0.05, rtol=1e-7, atol=1e-9, dense_output=False)\n",
        "\n",
        "        t_ev = sol.t_events[0]\n",
        "        if t_ev is None or len(t_ev) < 3:\n",
        "            T_list.append(np.nan)\n",
        "            continue\n",
        "\n",
        "        # keep only peaks (acc < 0) at event times\n",
        "        peaks = []\n",
        "        for te in t_ev:\n",
        "            # nearest stored θ to estimate acceleration sign\n",
        "            idx = np.searchsorted(sol.t, te)\n",
        "            theta_here = sol.y[0, max(0, min(idx, sol.y.shape[1]-1))]\n",
        "            acc = -(omega_0**2)*np.sin(theta_here)\n",
        "            if acc < 0:\n",
        "                peaks.append(te)\n",
        "            if len(peaks) >= 2:\n",
        "                break\n",
        "\n",
        "        T_list.append(peaks[1] - peaks[0] if len(peaks) >= 2 else np.nan)\n",
        "\n",
        "    return np.array(ang_vel_0_list), np.array(T_list)\n",
        "\n",
        "# Revolution time via events (rotation regime)\n",
        "def extract_Trev_ode_vs_angvel(ang_vel_0_list, theta0=0.0, omega_0=1.0):\n",
        "    \"\"\"\n",
        "    Return arrays (ang_vel_0_list, Trev_list) using event θ-θ0=+2π.\n",
        "    \"\"\"\n",
        "    e_sep = separatrix_energy(omega_0)\n",
        "    Trev_list = []\n",
        "    ev = revolution_event(theta0)\n",
        "    for v0 in ang_vel_0_list:\n",
        "        e0 = 0.5 * v0**2\n",
        "        if e0 < e_sep or abs(e0 - e_sep) < 1e-3:\n",
        "            Trev_list.append(np.nan)\n",
        "            continue\n",
        "\n",
        "        y0 = [theta0, v0]\n",
        "        sol = solve_ivp(lambda t,y: rigid_pendulum_ode(t,y,omega_0),\n",
        "                        [0, 240.0], y0,\n",
        "                        events=lambda t,y: ev(t,y,omega_0),\n",
        "                        max_step=0.02, rtol=1e-7, atol=1e-9, dense_output=False)\n",
        "\n",
        "        Trev_list.append(sol.t_events[0][0] if len(sol.t_events[0]) else np.nan)\n",
        "    return np.array(ang_vel_0_list), np.array(Trev_list)\n",
        "\n",
        "# Integral formulas\n",
        "def T_from_integral(v0, theta0=0.0, omega_0=1.0):\n",
        "    \"\"\"\n",
        "    Period for oscillations via integral; NaN in rotation regime.\n",
        "    \"\"\"\n",
        "    e0 = 0.5*v0**2\n",
        "    e_sep = separatrix_energy(omega_0)\n",
        "    if e0 >= e_sep:\n",
        "        return np.nan\n",
        "\n",
        "    c = 1 - e0/(omega_0**2)\n",
        "    c = min(max(c, -1.0), 1.0)\n",
        "    theta_max = np.arccos(c)\n",
        "\n",
        "    def integrand(theta):\n",
        "        val = 2*(e0 - (omega_0**2)*(1 - np.cos(theta)))\n",
        "        return 1/np.sqrt(val) if val > 0 else np.inf\n",
        "\n",
        "    val, _ = quad(integrand, 0.0, theta_max, epsabs=1e-9, epsrel=1e-9, limit=200)\n",
        "    return 4*val\n",
        "\n",
        "def Trev_from_integral(v0, theta0=0.0, omega_0=1.0):\n",
        "    \"\"\"\n",
        "    Revolution time for rotation via integral; NaN in oscillation regime.\n",
        "    \"\"\"\n",
        "    e0 = 0.5*v0**2\n",
        "    e_sep = separatrix_energy(omega_0)\n",
        "    if e0 < e_sep:\n",
        "        return np.nan\n",
        "\n",
        "    def integrand(theta):\n",
        "        val = 2*(e0 - (omega_0**2)*(1 - np.cos(theta)))\n",
        "        return 1/np.sqrt(val) if val > 0 else np.inf\n",
        "\n",
        "    val, _ = quad(integrand, 0.0, 2*np.pi, epsabs=1e-9, epsrel=1e-9, limit=400)\n",
        "    return val\n",
        "\n",
        "def extract_integral_vs_angvel(ang_vel_0_list, theta0=0.0, omega_0=1.0):\n",
        "    \"\"\"\n",
        "    Return arrays for both T and T_rev computed via integrals.\n",
        "    \"\"\"\n",
        "    T_list    = np.array([T_from_integral(v0, theta0, omega_0)   for v0 in ang_vel_0_list])\n",
        "    Trev_list = np.array([Trev_from_integral(v0, theta0, omega_0) for v0 in ang_vel_0_list])\n",
        "    return np.array(ang_vel_0_list), T_list, Trev_list\n",
        "\n",
        "# define function to extract period on a mesh of theta_0 using the integral method\n",
        "def extract_period_int(n_points, eps=1e-3, omega_0=1):\n",
        "    \"\"\"\n",
        "    Return arrays (theta_0_list, T_list) using the integral formula.\n",
        "    \"\"\"\n",
        "    theta_0_list = np.linspace(eps, np.pi - eps, n_points)\n",
        "    # convert from initial angle theta_0 to initial ang vel v0 assuming v_0 = 0\n",
        "    v_0_list = [np.sqrt(2*omega_0**2*(1 - np.cos(theta_0))) for theta_0 in theta_0_list]\n",
        "    T_list = [T_from_integral(v0, theta0=0.0, omega_0=omega_0) for v0 in v_0_list]\n",
        "    return theta_0_list, T_list\n",
        "\n",
        "# define function to extract the period using solve_ivp events\n",
        "def extract_period_ode(n_points, eps=1e-3, omega_0=1):\n",
        "    \"\"\"\n",
        "    Return arrays (theta_0_list, T_list) using the solve_ivp events.\n",
        "    \"\"\"\n",
        "    theta_0_list = np.linspace(eps, np.pi - eps, n_points)\n",
        "    # convert from initial angle theta_0 to initial ang vel v0 assuming v_0 = 0\n",
        "    v_0_list = [np.sqrt(2*omega_0**2*(1 - np.cos(theta_0))) for theta_0 in theta_0_list]\n",
        "    T_list = [extract_period_ode_vs_angvel([v0], theta0=0.0, omega_0=omega_0)[1][0] for v0 in v_0_list]\n",
        "    return theta_0_list, T_list"
      ],
      "metadata": {
        "id": "3cMgQVnRhuX3"
      },
      "execution_count": 3,
      "outputs": []
    },
    {
      "cell_type": "markdown",
      "source": [
        "### Testing the integration approach"
      ],
      "metadata": {
        "id": "97qgQKfLSya2"
      }
    },
    {
      "cell_type": "code",
      "source": [
        "# # test the integral\n",
        "# theta_0 = np.pi/2 # initial angle\n",
        "# omega_0 = 1 # natural frequency\n",
        "# period, err = quad(period_integrand, 0, theta_0, args=(theta_0, omega_0))\n",
        "\n",
        "# print(period / (2*np.pi))"
      ],
      "metadata": {
        "id": "eAK-Dg_rYsYF"
      },
      "execution_count": 4,
      "outputs": []
    },
    {
      "cell_type": "code",
      "source": [
        "# n_points = 50 # number of initial angles\n",
        "# theta_0_list, period_list_int = extract_period_int(n_points) # extract period on mesh of theta_0\n",
        "# basic_plot(theta_0_list, period_list_int, xlabel='theta_0', ylabel='period') # plot"
      ],
      "metadata": {
        "id": "vREj8Bing35q"
      },
      "execution_count": 5,
      "outputs": []
    },
    {
      "cell_type": "markdown",
      "source": [
        "### Test the `solve_ivp` approach"
      ],
      "metadata": {
        "id": "fNkdc_N-VE8S"
      }
    },
    {
      "cell_type": "code",
      "source": [
        "# # testing the solve_ivp + event approach\n",
        "\n",
        "# # range of times for integrating\n",
        "# t_min = 0\n",
        "# t_max = 100\n",
        "# t_span = [t_min, t_max] # time span for solve_ivp\n",
        "\n",
        "# # state variable\n",
        "# theta_0 = np.pi - 0.001 # initial angle\n",
        "# y_0 = [theta_0, 0] # initial condition\n",
        "\n",
        "# # parameters\n",
        "# omega_0 = 1 # natural frequency\n",
        "\n",
        "# # solve differential equation\n",
        "# sol = solve_ivp(rigid_pendulum_ode, t_span, y_0, args=(omega_0,),\n",
        "#                 max_step = 0.01,\n",
        "#                 dense_output=True,\n",
        "#                 events=ang_vel_zero_event\n",
        "#                 )\n",
        "\n",
        "# # output the extracted period\n",
        "# period = np.mean(np.diff(sol.t_events))\n",
        "# print(period)\n",
        "\n",
        "# # quick plot\n",
        "# t_plot = np.linspace(t_min, t_max, 1000)\n",
        "# theta_plot = sol.sol(t_plot)[0]\n",
        "# ang_vel_plot = sol.sol(t_plot)[1]\n",
        "# basic_plot(t_plot, theta_plot, xlabel='t', ylabel='theta', figsize=(12,2))\n",
        "# basic_plot(t_plot, ang_vel_plot, xlabel='t', ylabel='ang_vel', figsize=(12,2))"
      ],
      "metadata": {
        "id": "gfVl5Zk-hmFP"
      },
      "execution_count": 6,
      "outputs": []
    },
    {
      "cell_type": "code",
      "source": [
        "# n_points = 20 # number of theta_0 values\n",
        "# theta_0_list_ode, period_list_ode = extract_period_ode(n_points)"
      ],
      "metadata": {
        "id": "3NhfcwYOnPvV"
      },
      "execution_count": 7,
      "outputs": []
    },
    {
      "cell_type": "code",
      "source": [
        "# basic_plot(theta_0_list_ode, period_list_ode, xlabel='theta_0', ylabel='period',figsize=(3,3))"
      ],
      "metadata": {
        "id": "ELV583WCnXuw"
      },
      "execution_count": 8,
      "outputs": []
    },
    {
      "cell_type": "markdown",
      "source": [
        "### Compare the period extracted in the two different ways"
      ],
      "metadata": {
        "id": "LRhdKfjqol1j"
      }
    },
    {
      "cell_type": "code",
      "source": [
        "# extract period with the integral approach\n",
        "n_points_int = 100 # number of initial angles\n",
        "theta_0_list_int, period_list_int = extract_period_int(n_points_int) # extract period on mesh of theta_0\n",
        "\n",
        "# extract the period with the aolve_ivp approach\n",
        "n_points_ode = 20 # number of theta_0 values\n",
        "theta_0_list_ode, period_list_ode = extract_period_ode(n_points_ode) # extract period on mesh of theta_0"
      ],
      "metadata": {
        "id": "YA-oa-lDnvef",
        "colab": {
          "base_uri": "https://localhost:8080/"
        },
        "outputId": "4ddafc26-a4ae-4585-d570-45b9cc04dd83"
      },
      "execution_count": 9,
      "outputs": [
        {
          "output_type": "stream",
          "name": "stderr",
          "text": [
            "/tmp/ipython-input-2154534104.py:111: IntegrationWarning: The algorithm does not converge.  Roundoff error is detected\n",
            "  in the extrapolation table.  It is assumed that the requested tolerance\n",
            "  cannot be achieved, and that the returned result (if full_output = 1) is \n",
            "  the best which can be obtained.\n",
            "  val, _ = quad(integrand, 0.0, theta_max, epsabs=1e-9, epsrel=1e-9, limit=200)\n"
          ]
        }
      ]
    },
    {
      "cell_type": "code",
      "source": [
        "# plot them together\n",
        "plt.figure(figsize=(5,3))\n",
        "plt.plot(theta_0_list_int, period_list_int, label='integral')\n",
        "plt.plot(theta_0_list_ode, period_list_ode, '.', label='solve_ivp')\n",
        "plt.xlabel('$\\\\theta_0$')\n",
        "plt.ylabel('$T$')\n",
        "plt.xlim(-np.pi-0.2, np.pi+0.2)\n",
        "plt.ylim(0, 40)\n",
        "plt.legend()\n",
        "plt.show()"
      ],
      "metadata": {
        "id": "p9UU2424pB5w",
        "colab": {
          "base_uri": "https://localhost:8080/",
          "height": 320
        },
        "outputId": "03f9ae38-be5d-45f5-d057-f05c6ecec63c"
      },
      "execution_count": 10,
      "outputs": [
        {
          "output_type": "display_data",
          "data": {
            "text/plain": [
              "<Figure size 500x300 with 1 Axes>"
            ],
            "image/png": "[encoded data removed]"
          },
          "metadata": {}
        }
      ]
    },
    {
      "cell_type": "markdown",
      "source": [
        "### Rigid Pendulum: Period (T) and Revolution time (T_rev) vs initial angular velocity (ang_vel_0)"
      ],
      "metadata": {
        "id": "fpn2Wmb9k5gn"
      }
    },
    {
      "cell_type": "code",
      "source": [
        "# Final sweep and labeled figure (vs ang_vel_0)\n",
        "omega_0 = 1.0   # change if your notebook uses a different symbol/value\n",
        "theta_0 = 0.0\n",
        "\n",
        "ang_vel_0_grid = np.linspace(0.05, 4.0*omega_0, 60)\n",
        "\n",
        "# Events\n",
        "v_grid_evt_T,    T_evt    = extract_period_ode_vs_angvel(ang_vel_0_grid, theta0=theta_0, omega_0=omega_0)\n",
        "v_grid_evt_Trev, Trev_evt = extract_Trev_ode_vs_angvel  (ang_vel_0_grid, theta0=theta_0, omega_0=omega_0)\n",
        "\n",
        "# Integrals\n",
        "v_grid_int, T_int, Trev_int = extract_integral_vs_angvel(ang_vel_0_grid, theta0=theta_0, omega_0=omega_0)\n",
        "\n",
        "plt.figure(figsize=(7.5,4.8))\n",
        "plt.title(\"Rigid Pendulum: Period T and Revolution Time T_rev vs ang_vel_0 (ω0={:.2f})\".format(omega_0))\n",
        "plt.xlabel(\"ang_vel_0  [rad/s]\")\n",
        "plt.ylabel(\"Time  [s]\")\n",
        "plt.plot(v_grid_evt_T, T_evt,                label=\"T (events)\")\n",
        "plt.plot(v_grid_int,   T_int,   linestyle=\"--\", label=\"T (integral)\")\n",
        "plt.plot(v_grid_evt_Trev, Trev_evt,          label=\"T_rev (events)\")\n",
        "plt.plot(v_grid_int,    Trev_int, linestyle=\"--\", label=\"T_rev (integral)\")\n",
        "plt.legend()\n",
        "plt.grid(True, alpha=0.3)\n",
        "plt.tight_layout()\n",
        "plt.show()"
      ],
      "metadata": {
        "colab": {
          "base_uri": "https://localhost:8080/",
          "height": 394
        },
        "id": "PORyapoSlBOF",
        "outputId": "db114154-c020-4bab-e98c-c115c3b03993"
      },
      "execution_count": 11,
      "outputs": [
        {
          "output_type": "display_data",
          "data": {
            "text/plain": [
              "<Figure size 750x480 with 1 Axes>"
            ],
            "image/png": "[encoded data removed]"
          },
          "metadata": {}
        }
      ]
    }
  ],
  "metadata": {
    "colab": {
      "provenance": [],
      "collapsed_sections": [
        "97qgQKfLSya2",
        "fNkdc_N-VE8S"
      ],
      "include_colab_link": true
    },
    "kernelspec": {
      "display_name": "Python 3",
      "name": "python3"
    }
  },
  "nbformat": 4,
  "nbformat_minor": 0
}